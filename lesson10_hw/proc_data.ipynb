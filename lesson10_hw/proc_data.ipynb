{
 "cells": [
  {
   "cell_type": "code",
   "execution_count": 2,
   "metadata": {},
   "outputs": [],
   "source": [
    "import os\n",
    "import pandas as pd"
   ]
  },
  {
   "cell_type": "code",
   "execution_count": 6,
   "metadata": {},
   "outputs": [],
   "source": [
    "DATA_PATH = os.path.join('data_csv')\n"
   ]
  },
  {
   "cell_type": "code",
   "execution_count": 24,
   "metadata": {},
   "outputs": [
    {
     "data": {
      "text/html": [
       "<div>\n",
       "<style scoped>\n",
       "    .dataframe tbody tr th:only-of-type {\n",
       "        vertical-align: middle;\n",
       "    }\n",
       "\n",
       "    .dataframe tbody tr th {\n",
       "        vertical-align: top;\n",
       "    }\n",
       "\n",
       "    .dataframe thead th {\n",
       "        text-align: right;\n",
       "    }\n",
       "</style>\n",
       "<table border=\"1\" class=\"dataframe\">\n",
       "  <thead>\n",
       "    <tr style=\"text-align: right;\">\n",
       "      <th></th>\n",
       "      <th>Count</th>\n",
       "      <th>Gender</th>\n",
       "      <th>Name</th>\n",
       "    </tr>\n",
       "  </thead>\n",
       "  <tbody>\n",
       "    <tr>\n",
       "      <th>29768</th>\n",
       "      <td>5.0</td>\n",
       "      <td>M</td>\n",
       "      <td>Zyier</td>\n",
       "    </tr>\n",
       "    <tr>\n",
       "      <th>10026</th>\n",
       "      <td>5.0</td>\n",
       "      <td>M</td>\n",
       "      <td>Horris</td>\n",
       "    </tr>\n",
       "    <tr>\n",
       "      <th>10025</th>\n",
       "      <td>5.0</td>\n",
       "      <td>M</td>\n",
       "      <td>Horald</td>\n",
       "    </tr>\n",
       "  </tbody>\n",
       "</table>\n",
       "</div>"
      ],
      "text/plain": [
       "       Count Gender    Name\n",
       "29768    5.0      M   Zyier\n",
       "10026    5.0      M  Horris\n",
       "10025    5.0      M  Horald"
      ]
     },
     "execution_count": 24,
     "metadata": {},
     "output_type": "execute_result"
    }
   ],
   "source": [
    "def count_top3(years):\n",
    "    df = pd.DataFrame()\n",
    "    for year in years:\n",
    "            path = os.path.join(DATA_PATH, f'yob{year}.txt')\n",
    "            frame = pd.read_csv(path, names=['Name', 'Gender', 'Count'])\n",
    "            df = pd.concat([df, frame], names=['Name', 'Gender'], sort=True)\n",
    "    return df.sort_values(by=['Count']).head(3)\n",
    "\n",
    "count_top3([1900, 1950, 2000])"
   ]
  },
  {
   "cell_type": "code",
   "execution_count": 34,
   "metadata": {},
   "outputs": [
    {
     "name": "stdout",
     "output_type": "stream",
     "text": [
      "Динамика мужчин: \n",
      "150483\n",
      "1790549\n",
      "1962969\n",
      "Динамика женщин: \n",
      "299800\n",
      "1713151\n",
      "1815110\n"
     ]
    }
   ],
   "source": [
    "def count_dynamics(years):\n",
    "    mens = []\n",
    "    girls = []\n",
    "    for year in years:\n",
    "            path = os.path.join(DATA_PATH, f'yob{year}.txt')\n",
    "            frame = pd.read_csv(path, names=['Name', 'Gender', 'Count'])\n",
    "            girls.append(frame.query('Gender == \"F\"').Count.sum())\n",
    "            mens.append(frame.query('Gender == \"M\"').Count.sum())\n",
    "    \n",
    "    print('Динамика мужчин: ')\n",
    "    for men in mens:\n",
    "        print(men)\n",
    "        \n",
    "    print('Динамика женщин: ')\n",
    "    for girl in girls:\n",
    "        print(girl)\n",
    "\n",
    "\n",
    "count_dynamics([1900, 1950, 2000])\n",
    "    \n",
    "    \n",
    "    "
   ]
  }
 ],
 "metadata": {
  "kernelspec": {
   "display_name": "Python 3",
   "language": "python",
   "name": "python3"
  },
  "language_info": {
   "codemirror_mode": {
    "name": "ipython",
    "version": 3
   },
   "file_extension": ".py",
   "mimetype": "text/x-python",
   "name": "python",
   "nbconvert_exporter": "python",
   "pygments_lexer": "ipython3",
   "version": "3.6.5"
  }
 },
 "nbformat": 4,
 "nbformat_minor": 2
}
